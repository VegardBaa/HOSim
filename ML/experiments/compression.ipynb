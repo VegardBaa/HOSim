{
 "cells": [
  {
   "cell_type": "code",
   "execution_count": 13,
   "id": "efe8fa2e",
   "metadata": {},
   "outputs": [
    {
     "ename": "IndexError",
     "evalue": "list index out of range",
     "output_type": "error",
     "traceback": [
      "\u001b[1;31m---------------------------------------------------------------------------\u001b[0m",
      "\u001b[1;31mIndexError\u001b[0m                                Traceback (most recent call last)",
      "Cell \u001b[1;32mIn[13], line 14\u001b[0m\n\u001b[0;32m     11\u001b[0m sys\u001b[38;5;241m.\u001b[39mpath\u001b[38;5;241m.\u001b[39mappend(os\u001b[38;5;241m.\u001b[39mpath\u001b[38;5;241m.\u001b[39mabspath(os\u001b[38;5;241m.\u001b[39mpath\u001b[38;5;241m.\u001b[39mjoin(current_dir, \u001b[38;5;124m'\u001b[39m\u001b[38;5;124m..\u001b[39m\u001b[38;5;124m'\u001b[39m)))\n\u001b[0;32m     12\u001b[0m h5_files \u001b[38;5;241m=\u001b[39m glob\u001b[38;5;241m.\u001b[39mglob(os\u001b[38;5;241m.\u001b[39mpath\u001b[38;5;241m.\u001b[39mjoin(\u001b[38;5;124m\"\u001b[39m\u001b[38;5;124m..\u001b[39m\u001b[38;5;130;01m\\\\\u001b[39;00m\u001b[38;5;124moutput\u001b[39m\u001b[38;5;124m\"\u001b[39m, \u001b[38;5;124m\"\u001b[39m\u001b[38;5;124m*.h5\u001b[39m\u001b[38;5;124m\"\u001b[39m))\n\u001b[1;32m---> 14\u001b[0m \u001b[38;5;28;01mwith\u001b[39;00m h5py\u001b[38;5;241m.\u001b[39mFile(\u001b[43mh5_files\u001b[49m\u001b[43m[\u001b[49m\u001b[38;5;241;43m0\u001b[39;49m\u001b[43m]\u001b[49m, \u001b[38;5;124m'\u001b[39m\u001b[38;5;124mr\u001b[39m\u001b[38;5;124m'\u001b[39m) \u001b[38;5;28;01mas\u001b[39;00m data:\n\u001b[0;32m     15\u001b[0m     \u001b[38;5;66;03m# Read datasets\u001b[39;00m\n\u001b[0;32m     16\u001b[0m     eta_hat \u001b[38;5;241m=\u001b[39m data[\u001b[38;5;124m\"\u001b[39m\u001b[38;5;124meta_hat\u001b[39m\u001b[38;5;124m\"\u001b[39m][:]\n\u001b[0;32m     17\u001b[0m     phi_hat \u001b[38;5;241m=\u001b[39m data[\u001b[38;5;124m\"\u001b[39m\u001b[38;5;124mphi_hat\u001b[39m\u001b[38;5;124m\"\u001b[39m][:]\n",
      "\u001b[1;31mIndexError\u001b[0m: list index out of range"
     ]
    }
   ],
   "source": [
    "import sys\n",
    "import os\n",
    "import glob\n",
    "import h5py\n",
    "import numpy as np\n",
    "import matplotlib.pyplot as plt\n",
    "from numpy.fft import rfft, irfft\n",
    "from matplotlib.animation import FuncAnimation\n",
    "\n",
    "current_dir = os.getcwd()\n",
    "sys.path.append(os.path.abspath(os.path.join(current_dir, '..')))\n",
    "h5_files = glob.glob(os.path.join(\"..\\\\output\", \"*.h5\"))\n",
    "\n",
    "with h5py.File(h5_files[0], 'r') as data:\n",
    "    # Read datasets\n",
    "    eta_hat = data[\"eta_hat\"][:]\n",
    "    phi_hat = data[\"phi_hat\"][:]\n",
    "    Hs = data[\"Hs\"][:]\n",
    "    Tp = data[\"Tp\"][:]\n",
    "    time = data[\"time\"][:]\n",
    "\n",
    "    # Read attributes\n",
    "    modes = data.attrs[\"modes\"]\n",
    "    length = data.attrs[\"length\"]\n",
    "    Ta = data.attrs[\"Ta\"]\n",
    "\n",
    "# Create a new compressed file\n",
    "with h5py.File('your_compressed_file.h5', 'w') as f:\n",
    "    # Save datasets with maximum compression\n",
    "    f.create_dataset(\"eta_hat\", data=eta_hat, compression=\"gzip\", compression_opts=9)\n",
    "    f.create_dataset(\"phi_hat\", data=phi_hat, compression=\"gzip\", compression_opts=9)\n",
    "    f.create_dataset(\"Hs\", data=Hs, compression=\"gzip\", compression_opts=9)\n",
    "    f.create_dataset(\"Tp\", data=Tp, compression=\"gzip\", compression_opts=9)\n",
    "    f.create_dataset(\"time\", data=time, compression=\"gzip\", compression_opts=9)\n",
    "\n",
    "    # Save attributes\n",
    "    f.attrs[\"modes\"] = modes\n",
    "    f.attrs[\"length\"] = length\n",
    "    f.attrs[\"Ta\"] = Ta"
   ]
  },
  {
   "cell_type": "code",
   "execution_count": 7,
   "id": "5d209d05",
   "metadata": {},
   "outputs": [],
   "source": [
    "import sys\n",
    "import os\n",
    "import glob\n",
    "import h5py\n",
    "import numpy as np\n",
    "import matplotlib.pyplot as plt\n",
    "from numpy.fft import rfft2, irfft2\n",
    "from matplotlib.animation import FuncAnimation\n",
    "\n",
    "current_dir = os.getcwd()\n",
    "sys.path.append(os.path.abspath(os.path.join(current_dir, '..')))\n",
    "h5_files = glob.glob(os.path.join(\"..\\\\..\\\\output\", \"*.h5\"))\n",
    "\n",
    "with h5py.File(h5_files[0], 'r') as data:\n",
    "    # Read datasets\n",
    "    y = data[\"y\"][:]\n",
    "    Hs = data.attrs[\"Hs\"]\n",
    "    Tp = data.attrs[\"Tp\"]\n",
    "\n",
    "    # Read attributes\n",
    "    modes = data.attrs[\"modes\"]\n",
    "    length = data.attrs[\"length\"]\n",
    "    Ta = data.attrs[\"Ta\"]"
   ]
  },
  {
   "cell_type": "code",
   "execution_count": 11,
   "id": "8d13dcd1",
   "metadata": {},
   "outputs": [
    {
     "data": {
      "text/plain": [
       "[<matplotlib.lines.Line2D at 0x17a93c40590>]"
      ]
     },
     "execution_count": 11,
     "metadata": {},
     "output_type": "execute_result"
    },
    {
     "data": {
      "image/png": "[encoded data removed]",
      "text/plain": [
       "<Figure size 640x480 with 1 Axes>"
      ]
     },
     "metadata": {},
     "output_type": "display_data"
    }
   ],
   "source": [
    "plt.plot(np.abs(y[0, 0, 0, :]))"
   ]
  },
  {
   "cell_type": "code",
   "execution_count": null,
   "id": "c79e396c",
   "metadata": {},
   "outputs": [
    {
     "name": "stdout",
     "output_type": "stream",
     "text": [
      "3\n"
     ]
    }
   ],
   "source": [
    "Hs = 4.5\n",
    "Tp = 10.0\n",
    "gamma = 4.0\n",
    "g = 9.81\n",
    "beta = 0.1\n",
    "length = 3000\n",
    "modes = 512\n",
    "mHOS = 512\n",
    "\n",
    "k0 = 2 * np.pi / length\n",
    "T1 = 0.834 * Tp\n",
    "\n",
    "kx = np.linspace(-modes, modes-1, 2*modes, dtype=np.float32) * k0\n",
    "KX, KY = np.meshgrid(kx, kx)\n",
    "theta = np.atan2(KY, np.abs(KX))\n",
    "K = np.sqrt(KX**2 + KY**2)\n",
    "K[modes, modes] = 1\n",
    "W = np.sqrt(K * g)\n",
    "\n",
    "sigma = 0.07 * (W <= 5.24/T1) + 0.09 * (W > 5.24/T1)\n",
    "SW = (155 * Hs**2 / T1**4 / W**5 *\n",
    "    np.exp(-944 / (T1*W)**4) *\n",
    "    gamma ** np.exp(-((0.191*W*T1 - 1)/(np.sqrt(2)*sigma))**2))\n",
    "SK = SW * g / (2 * np.sqrt(K * g))\n",
    "\n",
    "GT = 1 / beta * np.cos(2 * np.pi * (theta) / (4 * beta))**2\n",
    "GT[(theta < -beta) | (theta > beta)] = 0\n",
    "\n",
    "spec = SK * GT / K\n",
    "spec[modes, modes] = 0\n",
    "\n",
    "spec = spec / np.trapezoid(np.trapezoid(spec, kx, axis=0), kx) * 2 * Hs**2 / 16\n",
    "\n",
    "phases = np.zeros((2*modes, 2*modes), dtype=np.complex64)\n",
    "phases[:modes+1, :modes+1] = np.exp(1.j*2*np.pi*np.random.rand(modes+1, modes+1))\n",
    "phases[1:modes, modes+1:] = np.exp(1.j*2*np.pi*np.random.rand(modes-1, modes-1))\n",
    "phases[modes+1:, 1:modes] = np.conj(phases[1:modes, modes+1:][::-1, ::-1])\n",
    "phases[0, 0] = 1\n",
    "phases[modes, 0] = 1\n",
    "phases[0, modes] = 1\n",
    "phases[modes, modes] = 1\n",
    "phases[modes:, modes:] = np.conj(phases[1:modes+1, 1:modes+1][::-1, ::-1])\n",
    "phases[modes+1:, 0] = np.conj(phases[1:modes, 0][::-1])\n",
    "phases[0, modes+1:] = np.conj(phases[0, 1:modes][::-1])\n",
    "\n",
    "SIGN = np.fft.fftshift(np.sign(KX))\n",
    "eta_hat = np.sqrt(np.fft.fftshift(spec)*k0*k0*0.5) * phases * 2 * modes * 2 * modes\n",
    "phi_hat = eta_hat * np.exp(-1.j * SIGN * np.pi / 2) * np.sqrt(g / np.fft.fftshift(K))\n",
    "\n",
    "index = (np.linspace(-modes, modes-1, 2*modes) < modes * 2 / (mHOS + 1)) & (np.linspace(-modes, modes-1, 2*modes) > -modes * 2 / (mHOS + 1))\n",
    "eta_hat[index, index] = 0\n",
    "phi_hat[index, index] = 0"
   ]
  }
 ],
 "metadata": {
  "kernelspec": {
   "display_name": "test",
   "language": "python",
   "name": "python3"
  },
  "language_info": {
   "codemirror_mode": {
    "name": "ipython",
    "version": 3
   },
   "file_extension": ".py",
   "mimetype": "text/x-python",
   "name": "python",
   "nbconvert_exporter": "python",
   "pygments_lexer": "ipython3",
   "version": "3.12.6"
  }
 },
 "nbformat": 4,
 "nbformat_minor": 5
}
