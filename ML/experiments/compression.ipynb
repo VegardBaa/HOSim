{
 "cells": [
  {
   "cell_type": "code",
   "execution_count": 13,
   "id": "efe8fa2e",
   "metadata": {},
   "outputs": [
    {
     "ename": "IndexError",
     "evalue": "list index out of range",
     "output_type": "error",
     "traceback": [
      "\u001b[1;31m---------------------------------------------------------------------------\u001b[0m",
      "\u001b[1;31mIndexError\u001b[0m                                Traceback (most recent call last)",
      "Cell \u001b[1;32mIn[13], line 14\u001b[0m\n\u001b[0;32m     11\u001b[0m sys\u001b[38;5;241m.\u001b[39mpath\u001b[38;5;241m.\u001b[39mappend(os\u001b[38;5;241m.\u001b[39mpath\u001b[38;5;241m.\u001b[39mabspath(os\u001b[38;5;241m.\u001b[39mpath\u001b[38;5;241m.\u001b[39mjoin(current_dir, \u001b[38;5;124m'\u001b[39m\u001b[38;5;124m..\u001b[39m\u001b[38;5;124m'\u001b[39m)))\n\u001b[0;32m     12\u001b[0m h5_files \u001b[38;5;241m=\u001b[39m glob\u001b[38;5;241m.\u001b[39mglob(os\u001b[38;5;241m.\u001b[39mpath\u001b[38;5;241m.\u001b[39mjoin(\u001b[38;5;124m\"\u001b[39m\u001b[38;5;124m..\u001b[39m\u001b[38;5;130;01m\\\\\u001b[39;00m\u001b[38;5;124moutput\u001b[39m\u001b[38;5;124m\"\u001b[39m, \u001b[38;5;124m\"\u001b[39m\u001b[38;5;124m*.h5\u001b[39m\u001b[38;5;124m\"\u001b[39m))\n\u001b[1;32m---> 14\u001b[0m \u001b[38;5;28;01mwith\u001b[39;00m h5py\u001b[38;5;241m.\u001b[39mFile(\u001b[43mh5_files\u001b[49m\u001b[43m[\u001b[49m\u001b[38;5;241;43m0\u001b[39;49m\u001b[43m]\u001b[49m, \u001b[38;5;124m'\u001b[39m\u001b[38;5;124mr\u001b[39m\u001b[38;5;124m'\u001b[39m) \u001b[38;5;28;01mas\u001b[39;00m data:\n\u001b[0;32m     15\u001b[0m     \u001b[38;5;66;03m# Read datasets\u001b[39;00m\n\u001b[0;32m     16\u001b[0m     eta_hat \u001b[38;5;241m=\u001b[39m data[\u001b[38;5;124m\"\u001b[39m\u001b[38;5;124meta_hat\u001b[39m\u001b[38;5;124m\"\u001b[39m][:]\n\u001b[0;32m     17\u001b[0m     phi_hat \u001b[38;5;241m=\u001b[39m data[\u001b[38;5;124m\"\u001b[39m\u001b[38;5;124mphi_hat\u001b[39m\u001b[38;5;124m\"\u001b[39m][:]\n",
      "\u001b[1;31mIndexError\u001b[0m: list index out of range"
     ]
    }
   ],
   "source": [
    "import sys\n",
    "import os\n",
    "import glob\n",
    "import h5py\n",
    "import numpy as np\n",
    "import matplotlib.pyplot as plt\n",
    "from numpy.fft import rfft, irfft\n",
    "from matplotlib.animation import FuncAnimation\n",
    "\n",
    "current_dir = os.getcwd()\n",
    "sys.path.append(os.path.abspath(os.path.join(current_dir, '..')))\n",
    "h5_files = glob.glob(os.path.join(\"..\\\\output\", \"*.h5\"))\n",
    "\n",
    "with h5py.File(h5_files[0], 'r') as data:\n",
    "    # Read datasets\n",
    "    eta_hat = data[\"eta_hat\"][:]\n",
    "    phi_hat = data[\"phi_hat\"][:]\n",
    "    Hs = data[\"Hs\"][:]\n",
    "    Tp = data[\"Tp\"][:]\n",
    "    time = data[\"time\"][:]\n",
    "\n",
    "    # Read attributes\n",
    "    modes = data.attrs[\"modes\"]\n",
    "    length = data.attrs[\"length\"]\n",
    "    Ta = data.attrs[\"Ta\"]\n",
    "\n",
    "# Create a new compressed file\n",
    "with h5py.File('your_compressed_file.h5', 'w') as f:\n",
    "    # Save datasets with maximum compression\n",
    "    f.create_dataset(\"eta_hat\", data=eta_hat, compression=\"gzip\", compression_opts=9)\n",
    "    f.create_dataset(\"phi_hat\", data=phi_hat, compression=\"gzip\", compression_opts=9)\n",
    "    f.create_dataset(\"Hs\", data=Hs, compression=\"gzip\", compression_opts=9)\n",
    "    f.create_dataset(\"Tp\", data=Tp, compression=\"gzip\", compression_opts=9)\n",
    "    f.create_dataset(\"time\", data=time, compression=\"gzip\", compression_opts=9)\n",
    "\n",
    "    # Save attributes\n",
    "    f.attrs[\"modes\"] = modes\n",
    "    f.attrs[\"length\"] = length\n",
    "    f.attrs[\"Ta\"] = Ta"
   ]
  }
 ],
 "metadata": {
  "kernelspec": {
   "display_name": "test",
   "language": "python",
   "name": "python3"
  },
  "language_info": {
   "codemirror_mode": {
    "name": "ipython",
    "version": 3
   },
   "file_extension": ".py",
   "mimetype": "text/x-python",
   "name": "python",
   "nbconvert_exporter": "python",
   "pygments_lexer": "ipython3",
   "version": "3.12.6"
  }
 },
 "nbformat": 4,
 "nbformat_minor": 5
}
