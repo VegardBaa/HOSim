{
 "cells": [
  {
   "cell_type": "code",
   "execution_count": null,
   "id": "783e111f",
   "metadata": {},
   "outputs": [],
   "source": [
    "import sys\n",
    "import os\n",
    "import glob\n",
    "import h5py\n",
    "\n",
    "current_dir = os.getcwd()\n",
    "sys.path.append(os.path.abspath(os.path.join(current_dir, '..')))\n",
    "\n",
    "import numpy as np\n",
    "import matplotlib.pyplot as plt\n",
    "\n",
    "h5_files = glob.glob(os.path.join(\"..\\\\output\", \"*.h5\"))\n",
    "\n",
    "eta_hat = []\n",
    "phi_hat = []\n",
    "params = {}\n",
    "\n",
    "for i, file in enumerate(h5_files):\n",
    "    with h5py.File(file, \"r\") as f:\n",
    "        if i == 0:\n",
    "            for key, val in f.attrs.items():\n",
    "                params[key] = []\n",
    "            \n",
    "        for key, val in f.attrs.items():\n",
    "            params[key].append(val)\n",
    "\n",
    "        eta_hat.append(f[\"eta_hat\"][:])\n",
    "        phi_hat.append(f[\"phi_hat\"][:])\n",
    "\n",
    "eta_hat = np.array(eta_hat)\n",
    "phi_hat = np.array(phi_hat)"
   ]
  }
 ],
 "metadata": {
  "kernelspec": {
   "display_name": "test",
   "language": "python",
   "name": "python3"
  },
  "language_info": {
   "codemirror_mode": {
    "name": "ipython",
    "version": 3
   },
   "file_extension": ".py",
   "mimetype": "text/x-python",
   "name": "python",
   "nbconvert_exporter": "python",
   "pygments_lexer": "ipython3",
   "version": "3.12.6"
  }
 },
 "nbformat": 4,
 "nbformat_minor": 5
}
