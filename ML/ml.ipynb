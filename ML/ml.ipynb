{
 "cells": [
  {
   "cell_type": "code",
   "execution_count": 10,
   "id": "783e111f",
   "metadata": {},
   "outputs": [
    {
     "name": "stdout",
     "output_type": "stream",
     "text": [
      "['..\\\\output\\\\simulation_0.h5', '..\\\\output\\\\simulation_1.h5', '..\\\\output\\\\simulation_10.h5', '..\\\\output\\\\simulation_11.h5', '..\\\\output\\\\simulation_12.h5', '..\\\\output\\\\simulation_13.h5', '..\\\\output\\\\simulation_14.h5', '..\\\\output\\\\simulation_15.h5', '..\\\\output\\\\simulation_16.h5', '..\\\\output\\\\simulation_17.h5', '..\\\\output\\\\simulation_18.h5', '..\\\\output\\\\simulation_19.h5', '..\\\\output\\\\simulation_2.h5', '..\\\\output\\\\simulation_20.h5', '..\\\\output\\\\simulation_21.h5', '..\\\\output\\\\simulation_22.h5', '..\\\\output\\\\simulation_23.h5', '..\\\\output\\\\simulation_24.h5', '..\\\\output\\\\simulation_25.h5', '..\\\\output\\\\simulation_26.h5', '..\\\\output\\\\simulation_27.h5', '..\\\\output\\\\simulation_28.h5', '..\\\\output\\\\simulation_29.h5', '..\\\\output\\\\simulation_3.h5', '..\\\\output\\\\simulation_30.h5', '..\\\\output\\\\simulation_31.h5', '..\\\\output\\\\simulation_32.h5', '..\\\\output\\\\simulation_33.h5', '..\\\\output\\\\simulation_34.h5', '..\\\\output\\\\simulation_35.h5', '..\\\\output\\\\simulation_36.h5', '..\\\\output\\\\simulation_37.h5', '..\\\\output\\\\simulation_38.h5', '..\\\\output\\\\simulation_39.h5', '..\\\\output\\\\simulation_4.h5', '..\\\\output\\\\simulation_40.h5', '..\\\\output\\\\simulation_41.h5', '..\\\\output\\\\simulation_42.h5', '..\\\\output\\\\simulation_43.h5', '..\\\\output\\\\simulation_44.h5', '..\\\\output\\\\simulation_45.h5', '..\\\\output\\\\simulation_46.h5', '..\\\\output\\\\simulation_47.h5', '..\\\\output\\\\simulation_5.h5', '..\\\\output\\\\simulation_6.h5', '..\\\\output\\\\simulation_7.h5', '..\\\\output\\\\simulation_8.h5', '..\\\\output\\\\simulation_9.h5']\n",
      "\n",
      "Reading: ..\\output\\simulation_0.h5\n",
      "  Dataset: eta_hat, Shape: (21, 513)\n",
      "<HDF5 group \"/params\" (0 members)>\n",
      "  Dataset: phi_hat, Shape: (21, 513)\n"
     ]
    }
   ],
   "source": [
    "import sys\n",
    "import os\n",
    "import glob\n",
    "import h5py\n",
    "\n",
    "current_dir = os.getcwd()\n",
    "sys.path.append(os.path.abspath(os.path.join(current_dir, '..')))\n",
    "\n",
    "import numpy as np\n",
    "import matplotlib.pyplot as plt\n",
    "\n",
    "h5_files = glob.glob(os.path.join(\"..\\\\output\", \"*.h5\"))\n",
    "print(h5_files)\n",
    "\n",
    "for file in h5_files:\n",
    "    with h5py.File(file, \"r\") as f:\n",
    "        print(f\"\\nReading: {file}\")\n",
    "        for key in f.keys():\n",
    "            item = f[key]\n",
    "            if isinstance(item, h5py.Dataset):\n",
    "                data = item[:]\n",
    "                print(f\"  Dataset: {key}, Shape: {data.shape}\")\n",
    "            elif isinstance(item, h5py.Group):\n",
    "                print(item)\n",
    "                for key in item:\n",
    "                    value = item[()]  # [()] gives scalar value for simple datasets\n",
    "                    data[key] = value\n",
    "                    print(f\"{key}: {value} (type: {type(value)})\")\n",
    "\n",
    "        break"
   ]
  }
 ],
 "metadata": {
  "kernelspec": {
   "display_name": "test",
   "language": "python",
   "name": "python3"
  },
  "language_info": {
   "codemirror_mode": {
    "name": "ipython",
    "version": 3
   },
   "file_extension": ".py",
   "mimetype": "text/x-python",
   "name": "python",
   "nbconvert_exporter": "python",
   "pygments_lexer": "ipython3",
   "version": "3.12.6"
  }
 },
 "nbformat": 4,
 "nbformat_minor": 5
}
