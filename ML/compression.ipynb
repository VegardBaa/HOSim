{
 "cells": [
  {
   "cell_type": "code",
   "execution_count": 1,
   "id": "efe8fa2e",
   "metadata": {},
   "outputs": [],
   "source": [
    "import sys\n",
    "import os\n",
    "import glob\n",
    "import h5py\n",
    "import numpy as np\n",
    "import matplotlib.pyplot as plt\n",
    "from numpy.fft import rfft, irfft\n",
    "from matplotlib.animation import FuncAnimation\n",
    "\n",
    "current_dir = os.getcwd()\n",
    "sys.path.append(os.path.abspath(os.path.join(current_dir, '..')))\n",
    "h5_files = glob.glob(os.path.join(\"..\\\\output\", \"*.h5\"))\n",
    "\n",
    "with h5py.File(h5_files[0], 'r') as data:\n",
    "    # Read datasets\n",
    "    eta_hat = data[\"eta_hat\"][:]\n",
    "    phi_hat = data[\"phi_hat\"][:]\n",
    "    Hs = data[\"Hs\"][:]\n",
    "    Tp = data[\"Tp\"][:]\n",
    "    time = data[\"time\"][:]\n",
    "\n",
    "    # Read attributes\n",
    "    modes = data.attrs[\"modes\"]\n",
    "    length = data.attrs[\"length\"]\n",
    "    Ta = data.attrs[\"Ta\"]\n",
    "\n",
    "# Create a new compressed file\n",
    "with h5py.File('your_compressed_file.h5', 'w') as f:\n",
    "    # Save datasets with maximum compression\n",
    "    f.create_dataset(\"eta_hat\", data=eta_hat, compression=\"gzip\", compression_opts=9)\n",
    "    f.create_dataset(\"phi_hat\", data=phi_hat, compression=\"gzip\", compression_opts=9)\n",
    "    f.create_dataset(\"Hs\", data=Hs, compression=\"gzip\", compression_opts=9)\n",
    "    f.create_dataset(\"Tp\", data=Tp, compression=\"gzip\", compression_opts=9)\n",
    "    f.create_dataset(\"time\", data=time, compression=\"gzip\", compression_opts=9)\n",
    "\n",
    "    # Save attributes\n",
    "    f.attrs[\"modes\"] = modes\n",
    "    f.attrs[\"length\"] = length\n",
    "    f.attrs[\"Ta\"] = Ta"
   ]
  }
 ],
 "metadata": {
  "kernelspec": {
   "display_name": "test",
   "language": "python",
   "name": "python3"
  },
  "language_info": {
   "codemirror_mode": {
    "name": "ipython",
    "version": 3
   },
   "file_extension": ".py",
   "mimetype": "text/x-python",
   "name": "python",
   "nbconvert_exporter": "python",
   "pygments_lexer": "ipython3",
   "version": "3.12.6"
  }
 },
 "nbformat": 4,
 "nbformat_minor": 5
}
